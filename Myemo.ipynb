{
  "nbformat": 4,
  "nbformat_minor": 5,
  "metadata": {
    "kernelspec": {
      "display_name": "Python 3",
      "language": "python",
      "name": "python3"
    },
    "language_info": {
      "codemirror_mode": {
        "name": "ipython",
        "version": 3
      },
      "file_extension": ".py",
      "mimetype": "text/x-python",
      "name": "python",
      "nbconvert_exporter": "python",
      "pygments_lexer": "ipython3",
      "version": "3.8.8"
    },
    "colab": {
      "name": "Myemo.ipynb",
      "provenance": []
    }
  },
  "cells": [
    {
      "cell_type": "markdown",
      "metadata": {
        "id": "d728ec18"
      },
      "source": [
        "# Introduction\n",
        "\n",
        "Facial recognition is everywhere, from the front sensors of our smartphones to the security cameras. But how facial recognition work to classify faces?\n",
        "\n",
        "In this little project we will use Haar Classifier, or Haar cascade classifier which is a machine learning object detection program that identifies objects. You can find a detailed description of Haar classifiers in Paul Viola and Michael Jones’s paper “Rapid Object Detection using a Boosted Cascade of Simple Features”."
      ],
      "id": "d728ec18"
    },
    {
      "cell_type": "markdown",
      "metadata": {
        "id": "3afa63ca"
      },
      "source": [
        "# Imports"
      ],
      "id": "3afa63ca"
    },
    {
      "cell_type": "code",
      "metadata": {
        "id": "8a66b2d1"
      },
      "source": [
        "import numpy as np\n",
        "import cv2\n",
        "\n",
        "from tensorflow.keras.models import Sequential\n",
        "from tensorflow.keras.layers import Dense, Dropout, Flatten\n",
        "from tensorflow.keras.layers import Conv2D\n",
        "from tensorflow.keras.optimizers import Adam\n",
        "from tensorflow.keras.layers import MaxPooling2D\n",
        "from tensorflow.keras.preprocessing.image import ImageDataGenerator"
      ],
      "id": "8a66b2d1",
      "execution_count": null,
      "outputs": []
    },
    {
      "cell_type": "markdown",
      "metadata": {
        "id": "53371e37"
      },
      "source": [
        "# Creating Training and Validation generators"
      ],
      "id": "53371e37"
    },
    {
      "cell_type": "code",
      "metadata": {
        "id": "274614ab",
        "outputId": "56947f12-5f86-4b21-a81f-d034b3c84c98"
      },
      "source": [
        "train_dir = 'C:/Users/SI RANY/Desktop/GProjects/Myemo/train'\n",
        "val_dir = 'C:/Users/SI RANY/Desktop/GProjects/Myemo/test'\n",
        "\n",
        "train_datagen = ImageDataGenerator(rescale=1./255,\n",
        "                                  zoom_range=0.3)\n",
        "val_datagen = ImageDataGenerator(rescale=1./255)\n",
        "\n",
        "train_generator = train_datagen.flow_from_directory(\n",
        "        train_dir,\n",
        "        target_size=(48,48),\n",
        "        batch_size=64,\n",
        "        color_mode=\"grayscale\",\n",
        "        class_mode='categorical')\n",
        "\n",
        "validation_generator = val_datagen.flow_from_directory(\n",
        "        val_dir,\n",
        "        target_size=(48,48),\n",
        "        batch_size=64,\n",
        "        color_mode=\"grayscale\",\n",
        "        class_mode='categorical')"
      ],
      "id": "274614ab",
      "execution_count": null,
      "outputs": [
        {
          "name": "stdout",
          "output_type": "stream",
          "text": [
            "Found 19346 images belonging to 4 classes.\n",
            "Found 4796 images belonging to 4 classes.\n"
          ]
        }
      ]
    },
    {
      "cell_type": "markdown",
      "metadata": {
        "id": "28fe0cff"
      },
      "source": [
        "# Building the Model\n",
        "\n",
        "We will use a stack of Conv2D and MaxPooling2D layers, then we will add Dense layers in the top.\n",
        "To mitigate overgitting, we will use dropout as a regularization technique.\n",
        "Finally we will use softmax as an activation function because it is a multiclassification task."
      ],
      "id": "28fe0cff"
    },
    {
      "cell_type": "code",
      "metadata": {
        "id": "d8cdfe0f",
        "outputId": "2b747e96-c751-4c29-9448-3cb994eb795a"
      },
      "source": [
        "model_emo = Sequential()\n",
        "\n",
        "model_emo.add(Conv2D(32, kernel_size=(3, 3), activation='relu', input_shape=(48,48,1)))\n",
        "model_emo.add(Conv2D(64, kernel_size=(3, 3), activation='relu'))\n",
        "model_emo.add(MaxPooling2D(pool_size=(2, 2)))\n",
        "model_emo.add(Dropout(0.25))\n",
        "\n",
        "model_emo.add(Conv2D(128, kernel_size=(3, 3), activation='relu'))\n",
        "model_emo.add(MaxPooling2D(pool_size=(2, 2)))\n",
        "model_emo.add(Conv2D(128, kernel_size=(3, 3), activation='relu'))\n",
        "model_emo.add(MaxPooling2D(pool_size=(2, 2)))\n",
        "model_emo.add(Dropout(0.25))\n",
        "\n",
        "model_emo.add(Flatten())\n",
        "model_emo.add(Dense(1024, activation='relu'))\n",
        "model_emo.add(Dropout(0.5))\n",
        "model_emo.add(Dense(4, activation='softmax'))\n",
        "\n",
        "print(\"Model Created!\")"
      ],
      "id": "d8cdfe0f",
      "execution_count": null,
      "outputs": [
        {
          "name": "stdout",
          "output_type": "stream",
          "text": [
            "Model Created!\n"
          ]
        }
      ]
    },
    {
      "cell_type": "markdown",
      "metadata": {
        "id": "2ce9f576"
      },
      "source": [
        "# Compiling the Model"
      ],
      "id": "2ce9f576"
    },
    {
      "cell_type": "code",
      "metadata": {
        "id": "a642295f",
        "outputId": "2b6ff26e-bb00-44a4-ebdb-47a8c92ca5b6"
      },
      "source": [
        "model_emo.compile(loss='categorical_crossentropy',optimizer=Adam(lr=0.0001, decay=1e-6),metrics=['accuracy'])\n",
        "\n",
        "model_emo_info = model_emo.fit_generator(\n",
        "        train_generator,\n",
        "        steps_per_epoch=19346 // 64,\n",
        "        epochs=50,\n",
        "        validation_data=validation_generator,\n",
        "        validation_steps=4796 // 64)"
      ],
      "id": "a642295f",
      "execution_count": null,
      "outputs": [
        {
          "name": "stderr",
          "output_type": "stream",
          "text": [
            "C:\\Users\\SI RANY\\anaconda3\\envs\\JREnv\\lib\\site-packages\\tensorflow\\python\\keras\\optimizer_v2\\optimizer_v2.py:374: UserWarning: The `lr` argument is deprecated, use `learning_rate` instead.\n",
            "  warnings.warn(\n",
            "C:\\Users\\SI RANY\\anaconda3\\envs\\JREnv\\lib\\site-packages\\tensorflow\\python\\keras\\engine\\training.py:1940: UserWarning: `Model.fit_generator` is deprecated and will be removed in a future version. Please use `Model.fit`, which supports generators.\n",
            "  warnings.warn('`Model.fit_generator` is deprecated and '\n"
          ]
        },
        {
          "name": "stdout",
          "output_type": "stream",
          "text": [
            "Epoch 1/50\n",
            "302/302 [==============================] - 253s 836ms/step - loss: 1.3342 - accuracy: 0.3752 - val_loss: 1.2851 - val_accuracy: 0.4117\n",
            "Epoch 2/50\n",
            "302/302 [==============================] - 256s 847ms/step - loss: 1.2143 - accuracy: 0.4601 - val_loss: 1.1036 - val_accuracy: 0.5467\n",
            "Epoch 3/50\n",
            "302/302 [==============================] - 258s 855ms/step - loss: 1.1361 - accuracy: 0.5094 - val_loss: 1.0452 - val_accuracy: 0.5606\n",
            "Epoch 4/50\n",
            "302/302 [==============================] - 284s 939ms/step - loss: 1.0846 - accuracy: 0.5415 - val_loss: 0.9906 - val_accuracy: 0.6045\n",
            "Epoch 5/50\n",
            "302/302 [==============================] - 304s 1s/step - loss: 1.0479 - accuracy: 0.5601 - val_loss: 0.9504 - val_accuracy: 0.6201\n",
            "Epoch 6/50\n",
            "302/302 [==============================] - 268s 887ms/step - loss: 1.0158 - accuracy: 0.5766 - val_loss: 0.9103 - val_accuracy: 0.6358\n",
            "Epoch 7/50\n",
            "302/302 [==============================] - 261s 865ms/step - loss: 0.9764 - accuracy: 0.5963 - val_loss: 0.9051 - val_accuracy: 0.6292\n",
            "Epoch 8/50\n",
            "302/302 [==============================] - 263s 872ms/step - loss: 0.9489 - accuracy: 0.6101 - val_loss: 0.8641 - val_accuracy: 0.6529\n",
            "Epoch 9/50\n",
            "302/302 [==============================] - 262s 869ms/step - loss: 0.9186 - accuracy: 0.6212 - val_loss: 0.8243 - val_accuracy: 0.6740\n",
            "Epoch 10/50\n",
            "302/302 [==============================] - 263s 872ms/step - loss: 0.8914 - accuracy: 0.6419 - val_loss: 0.7950 - val_accuracy: 0.6915\n",
            "Epoch 11/50\n",
            "302/302 [==============================] - 262s 867ms/step - loss: 0.8702 - accuracy: 0.6453 - val_loss: 0.7647 - val_accuracy: 0.7023\n",
            "Epoch 12/50\n",
            "302/302 [==============================] - 263s 870ms/step - loss: 0.8477 - accuracy: 0.6610 - val_loss: 0.7471 - val_accuracy: 0.7088\n",
            "Epoch 13/50\n",
            "302/302 [==============================] - 263s 871ms/step - loss: 0.8286 - accuracy: 0.6654 - val_loss: 0.7251 - val_accuracy: 0.7171\n",
            "Epoch 14/50\n",
            "302/302 [==============================] - 260s 861ms/step - loss: 0.8077 - accuracy: 0.6753 - val_loss: 0.7116 - val_accuracy: 0.7264\n",
            "Epoch 15/50\n",
            "302/302 [==============================] - 260s 862ms/step - loss: 0.7934 - accuracy: 0.6853 - val_loss: 0.7073 - val_accuracy: 0.7259\n",
            "Epoch 16/50\n",
            "302/302 [==============================] - 265s 876ms/step - loss: 0.7786 - accuracy: 0.6897 - val_loss: 0.6917 - val_accuracy: 0.7323\n",
            "Epoch 17/50\n",
            "302/302 [==============================] - 263s 870ms/step - loss: 0.7661 - accuracy: 0.6974 - val_loss: 0.6764 - val_accuracy: 0.7388\n",
            "Epoch 18/50\n",
            "302/302 [==============================] - 265s 879ms/step - loss: 0.7507 - accuracy: 0.7031 - val_loss: 0.6702 - val_accuracy: 0.7437\n",
            "Epoch 19/50\n",
            "302/302 [==============================] - 263s 872ms/step - loss: 0.7420 - accuracy: 0.7079 - val_loss: 0.6665 - val_accuracy: 0.7413\n",
            "Epoch 20/50\n",
            "302/302 [==============================] - 268s 887ms/step - loss: 0.7284 - accuracy: 0.7125 - val_loss: 0.6608 - val_accuracy: 0.7451\n",
            "Epoch 21/50\n",
            "302/302 [==============================] - 263s 869ms/step - loss: 0.7131 - accuracy: 0.7175 - val_loss: 0.6417 - val_accuracy: 0.7589\n",
            "Epoch 22/50\n",
            "302/302 [==============================] - 262s 866ms/step - loss: 0.7066 - accuracy: 0.7247 - val_loss: 0.6428 - val_accuracy: 0.7544\n",
            "Epoch 23/50\n",
            "302/302 [==============================] - 262s 869ms/step - loss: 0.6973 - accuracy: 0.7277 - val_loss: 0.6350 - val_accuracy: 0.7576\n",
            "Epoch 24/50\n",
            "302/302 [==============================] - 280s 927ms/step - loss: 0.6852 - accuracy: 0.7327 - val_loss: 0.6223 - val_accuracy: 0.7660\n",
            "Epoch 25/50\n",
            "302/302 [==============================] - 265s 879ms/step - loss: 0.6764 - accuracy: 0.7353 - val_loss: 0.6148 - val_accuracy: 0.7675\n",
            "Epoch 26/50\n",
            "302/302 [==============================] - 264s 875ms/step - loss: 0.6712 - accuracy: 0.7394 - val_loss: 0.6103 - val_accuracy: 0.7730\n",
            "Epoch 27/50\n",
            "302/302 [==============================] - 265s 877ms/step - loss: 0.6565 - accuracy: 0.7408 - val_loss: 0.6082 - val_accuracy: 0.7753\n",
            "Epoch 28/50\n",
            "302/302 [==============================] - 263s 871ms/step - loss: 0.6540 - accuracy: 0.7430 - val_loss: 0.6031 - val_accuracy: 0.7755\n",
            "Epoch 29/50\n",
            "302/302 [==============================] - 266s 882ms/step - loss: 0.6397 - accuracy: 0.7541 - val_loss: 0.5985 - val_accuracy: 0.7713\n",
            "Epoch 30/50\n",
            "302/302 [==============================] - 267s 884ms/step - loss: 0.6353 - accuracy: 0.7548 - val_loss: 0.5957 - val_accuracy: 0.7770\n",
            "Epoch 31/50\n",
            "302/302 [==============================] - 262s 867ms/step - loss: 0.6288 - accuracy: 0.7575 - val_loss: 0.5936 - val_accuracy: 0.7758\n",
            "Epoch 32/50\n",
            "302/302 [==============================] - 267s 885ms/step - loss: 0.6190 - accuracy: 0.7647 - val_loss: 0.5892 - val_accuracy: 0.7781\n",
            "Epoch 33/50\n",
            "302/302 [==============================] - 262s 867ms/step - loss: 0.6191 - accuracy: 0.7607 - val_loss: 0.5883 - val_accuracy: 0.7791\n",
            "Epoch 34/50\n",
            "302/302 [==============================] - 262s 869ms/step - loss: 0.6140 - accuracy: 0.7658 - val_loss: 0.5806 - val_accuracy: 0.7804\n",
            "Epoch 35/50\n",
            "302/302 [==============================] - 262s 868ms/step - loss: 0.6062 - accuracy: 0.7687 - val_loss: 0.5879 - val_accuracy: 0.7796\n",
            "Epoch 36/50\n",
            "302/302 [==============================] - 256s 848ms/step - loss: 0.5981 - accuracy: 0.7693 - val_loss: 0.5756 - val_accuracy: 0.7846\n",
            "Epoch 37/50\n",
            "302/302 [==============================] - 262s 867ms/step - loss: 0.5933 - accuracy: 0.7734 - val_loss: 0.5720 - val_accuracy: 0.7844\n",
            "Epoch 38/50\n",
            "302/302 [==============================] - 261s 863ms/step - loss: 0.5837 - accuracy: 0.7769 - val_loss: 0.5662 - val_accuracy: 0.7897\n",
            "Epoch 39/50\n",
            "302/302 [==============================] - 265s 878ms/step - loss: 0.5778 - accuracy: 0.7798 - val_loss: 0.5638 - val_accuracy: 0.7910\n",
            "Epoch 40/50\n",
            "302/302 [==============================] - 262s 867ms/step - loss: 0.5750 - accuracy: 0.7811 - val_loss: 0.5737 - val_accuracy: 0.7819\n",
            "Epoch 41/50\n",
            "302/302 [==============================] - 262s 868ms/step - loss: 0.5663 - accuracy: 0.7876 - val_loss: 0.5713 - val_accuracy: 0.7884\n",
            "Epoch 42/50\n",
            "302/302 [==============================] - 254s 841ms/step - loss: 0.5657 - accuracy: 0.7839 - val_loss: 0.5653 - val_accuracy: 0.7908\n",
            "Epoch 43/50\n",
            "302/302 [==============================] - 263s 869ms/step - loss: 0.5540 - accuracy: 0.7885 - val_loss: 0.5682 - val_accuracy: 0.7901\n",
            "Epoch 44/50\n",
            "302/302 [==============================] - 260s 861ms/step - loss: 0.5537 - accuracy: 0.7881 - val_loss: 0.5635 - val_accuracy: 0.7884\n",
            "Epoch 45/50\n",
            "302/302 [==============================] - 255s 845ms/step - loss: 0.5434 - accuracy: 0.7940 - val_loss: 0.5551 - val_accuracy: 0.7918\n",
            "Epoch 46/50\n",
            "302/302 [==============================] - 265s 879ms/step - loss: 0.5358 - accuracy: 0.7957 - val_loss: 0.5640 - val_accuracy: 0.7882\n",
            "Epoch 47/50\n",
            "302/302 [==============================] - 259s 857ms/step - loss: 0.5378 - accuracy: 0.7928 - val_loss: 0.5760 - val_accuracy: 0.7880\n",
            "Epoch 48/50\n",
            "302/302 [==============================] - 258s 855ms/step - loss: 0.5314 - accuracy: 0.7977 - val_loss: 0.5586 - val_accuracy: 0.7903\n",
            "Epoch 49/50\n",
            "302/302 [==============================] - 256s 847ms/step - loss: 0.5241 - accuracy: 0.8012 - val_loss: 0.5735 - val_accuracy: 0.7840\n",
            "Epoch 50/50\n",
            "302/302 [==============================] - 256s 849ms/step - loss: 0.5132 - accuracy: 0.8061 - val_loss: 0.5733 - val_accuracy: 0.7889\n"
          ]
        }
      ]
    },
    {
      "cell_type": "code",
      "metadata": {
        "id": "80fad2e8"
      },
      "source": [
        "#Saving the weights and the model for later use\n",
        "model_emo.save_weights('C:/Users/SI RANY/Desktop/GProjects/Myemo/modelweights_emotion.h5')\n",
        "model_emo.save('C:/Users/SI RANY/Desktop/GProjects/Myemo/model_emotion.h5')"
      ],
      "id": "80fad2e8",
      "execution_count": null,
      "outputs": []
    },
    {
      "cell_type": "markdown",
      "metadata": {
        "id": "8b41a0e5"
      },
      "source": [
        "# Plotting"
      ],
      "id": "8b41a0e5"
    },
    {
      "cell_type": "code",
      "metadata": {
        "id": "92515662"
      },
      "source": [
        "import matplotlib.pyplot as plt\n",
        "\n",
        "train_acc = model_emo_info.history['accuracy']\n",
        "train_loss = model_emo_info.history['loss']\n",
        "\n",
        "val_acc = model_emo_info.history['val_accuracy']\n",
        "val_loss = model_emo_info.history['val_loss']\n",
        "\n",
        "epochs = range(1, len(train_acc)+1)"
      ],
      "id": "92515662",
      "execution_count": null,
      "outputs": []
    },
    {
      "cell_type": "code",
      "metadata": {
        "id": "4ad8af74",
        "outputId": "8ac6fc9d-b16c-4a2d-9773-4c5a2b8b1e67"
      },
      "source": [
        "plt.plot(epochs, train_acc, \"b\", label=\"Training accuracy\")\n",
        "plt.plot(epochs, val_acc, \"r\", label=\"Validation accuracy\")\n",
        "plt.legend()\n",
        "plt.title(\"Training and Validation accuracy\")\n",
        "plt.grid(True)\n",
        "\n",
        "plt.show()"
      ],
      "id": "4ad8af74",
      "execution_count": null,
      "outputs": [
        {
          "data": {
            "image/png": "[encoded data removed]",
            "text/plain": [
              "<Figure size 432x288 with 1 Axes>"
            ]
          },
          "metadata": {
            "needs_background": "light"
          },
          "output_type": "display_data"
        }
      ]
    },
    {
      "cell_type": "code",
      "metadata": {
        "id": "b90cdaf4",
        "outputId": "36327c29-0ae6-4fee-94fd-1b6384690e9c"
      },
      "source": [
        "plt.plot(epochs, train_loss, \"b\", label=\"Training loss\")\n",
        "plt.plot(epochs, val_loss, \"r\", label=\"Validation loss\")\n",
        "plt.legend()\n",
        "plt.title(\"Training and Validation loss\")\n",
        "plt.grid(True)\n",
        "\n",
        "plt.show()"
      ],
      "id": "b90cdaf4",
      "execution_count": null,
      "outputs": [
        {
          "data": {
            "image/png": "[encoded data removed]",
            "text/plain": [
              "<Figure size 432x288 with 1 Axes>"
            ]
          },
          "metadata": {
            "needs_background": "light"
          },
          "output_type": "display_data"
        }
      ]
    },
    {
      "cell_type": "markdown",
      "metadata": {
        "id": "aa04dfd4"
      },
      "source": [
        "# We will rewrite the model then load our saved weights"
      ],
      "id": "aa04dfd4"
    },
    {
      "cell_type": "code",
      "metadata": {
        "id": "1eb03dc2"
      },
      "source": [
        "import numpy as np\n",
        "import cv2\n",
        "from tensorflow.keras.models import Sequential\n",
        "from tensorflow.keras.layers import Dense, Dropout, Flatten\n",
        "from tensorflow.keras.layers import Conv2D\n",
        "from tensorflow.keras.optimizers import Adam\n",
        "from tensorflow.keras.layers import MaxPooling2D\n",
        "from tensorflow.keras.preprocessing.image import ImageDataGenerator\n",
        "\n",
        "model_emo = Sequential()\n",
        "\n",
        "model_emo.add(Conv2D(32, kernel_size=(3, 3), activation='relu', input_shape=(48,48,1)))\n",
        "model_emo.add(Conv2D(64, kernel_size=(3, 3), activation='relu'))\n",
        "model_emo.add(MaxPooling2D((2, 2)))\n",
        "model_emo.add(Dropout(0.3))\n",
        "\n",
        "model_emo.add(Conv2D(128, kernel_size=(3, 3), activation='relu'))\n",
        "model_emo.add(MaxPooling2D((2, 2)))\n",
        "model_emo.add(Conv2D(128, kernel_size=(3, 3), activation='relu'))\n",
        "model_emo.add(MaxPooling2D((2, 2)))\n",
        "model_emo.add(Dropout(0.3))\n",
        "\n",
        "model_emo.add(Flatten())\n",
        "model_emo.add(Dense(1024, activation='relu'))\n",
        "model_emo.add(Dropout(0.5))\n",
        "model_emo.add(Dense(4, activation='softmax'))\n",
        "\n",
        "model_emo.load_weights('C:/Users/SI RANY/Desktop/GProjects/Myemo/modelweights_emotion.h5')"
      ],
      "id": "1eb03dc2",
      "execution_count": null,
      "outputs": []
    },
    {
      "cell_type": "markdown",
      "metadata": {
        "id": "c8490e46"
      },
      "source": [
        "# Creating open_camera() method\n",
        "\n",
        "We will Implement the Haar Cascade classifier into our code which is an easy task using OpenCV's CascadeClassifier function"
      ],
      "id": "c8490e46"
    },
    {
      "cell_type": "code",
      "metadata": {
        "id": "a99b0110"
      },
      "source": [
        "cv2.ocl.setUseOpenCL(False)\n",
        "\n",
        "emotion_dict = {0: \"Angry\", 1: \"Happy\", 2: \"Neutral\", 3: \"Surprised\"}"
      ],
      "id": "a99b0110",
      "execution_count": null,
      "outputs": []
    },
    {
      "cell_type": "code",
      "metadata": {
        "id": "02460177"
      },
      "source": [
        "def open_camera():\n",
        "    cap = cv2.VideoCapture(0)\n",
        "    print(\"Detecting ...\")\n",
        "    while True:\n",
        "    \n",
        "        ret, frame = cap.read()\n",
        "        if not ret:\n",
        "            break\n",
        "    \n",
        "        bounding_box = cv2.CascadeClassifier('C:/Users/SI RANY/Desktop/GProjects/Myemo/opencv-master/data/haarcascades/haarcascade_frontalface_default.xml')\n",
        "        gray_frame = cv2.cvtColor(frame, cv2.COLOR_BGR2GRAY)\n",
        "        num_faces = bounding_box.detectMultiScale(gray_frame,scaleFactor=1.3, minNeighbors=7)\n",
        "\n",
        "        for (x, y, w, h) in num_faces:\n",
        "            cv2.rectangle(frame, (x, y-50), (x+w, y+h+10), (0, 0, 255), 2)\n",
        "            roi_gray_frame = gray_frame[y:y + h, x:x + w]\n",
        "            cropped_img = np.expand_dims(np.expand_dims(cv2.resize(roi_gray_frame, (48, 48)), -1), 0)\n",
        "            emotion = model_emo.predict(cropped_img)\n",
        "            maxindex = int(np.argmax(emotion))\n",
        "            cv2.putText(frame, emotion_dict[maxindex], (x+20, y-60), cv2.FONT_HERSHEY_SIMPLEX, 1, (255, 255, 255), 2, cv2.LINE_AA)\n",
        "\n",
        "        cv2.imshow('MyEmotion', cv2.resize(frame,(1200,860),interpolation = cv2.INTER_CUBIC))\n",
        "\n",
        "        if cv2.waitKey(1) & 0xFF == ord('q'):\n",
        "            break\n",
        "            \n",
        "    cap.release()\n",
        "    cv2.destroyAllWindows()"
      ],
      "id": "02460177",
      "execution_count": null,
      "outputs": []
    },
    {
      "cell_type": "markdown",
      "metadata": {
        "id": "426da718"
      },
      "source": [
        "# Running our Emotions Detector"
      ],
      "id": "426da718"
    },
    {
      "cell_type": "code",
      "metadata": {
        "scrolled": true,
        "id": "0ee71e33",
        "outputId": "9a727e3c-6058-4caa-bec3-16a0890a5ec6"
      },
      "source": [
        "open_camera()"
      ],
      "id": "0ee71e33",
      "execution_count": null,
      "outputs": [
        {
          "name": "stdout",
          "output_type": "stream",
          "text": [
            "Detecting ...\n"
          ]
        }
      ]
    }
  ]
}